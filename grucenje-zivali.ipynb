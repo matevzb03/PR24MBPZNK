{
 "cells": [
  {
   "cell_type": "markdown",
   "id": "cfedf61a-b49f-498e-a040-d55093a869b6",
   "metadata": {},
   "source": [
    "# Hierarhično gručenje živali"
   ]
  },
  {
   "cell_type": "markdown",
   "id": "302424f3-8cf3-4490-ad45-774ee225aba7",
   "metadata": {},
   "source": [
    "Hierarhično gručenje živali s pomočjo Orange in povprečno število dni živali glede na gručo.\n",
    "\n",
    "Delovno okolje v Orange:\n",
    "![Orange](slike/cluster.jpg)"
   ]
  },
  {
   "cell_type": "code",
   "execution_count": 1,
   "id": "f6faab9c-fd5e-4701-ae95-99874c404ff8",
   "metadata": {},
   "outputs": [],
   "source": [
    "from csv import DictReader\n",
    "gruce = DictReader(open('embedded-slike.csv', 'rt', encoding='utf-8'))\n",
    "next(gruce) \n",
    "next(gruce) #preskoči\n",
    "\n",
    "clusters = dict() #cluster -> [ids]\n",
    "get_cluster = dict() #id -> cluster\n",
    "for row in gruce:\n",
    "    id = int(row[\"image name\"])\n",
    "    gruca = row[\"Cluster\"]\n",
    "    if gruca not in clusters:\n",
    "        clusters[gruca] = []\n",
    "    clusters[gruca].append(id)\n",
    "    get_cluster[id] = gruca"
   ]
  },
  {
   "cell_type": "code",
   "execution_count": 2,
   "id": "0ad2be4e-ee71-42cb-add8-245bfb5cde27",
   "metadata": {},
   "outputs": [],
   "source": [
    "zivali = DictReader(open('zivali.csv', 'rt', encoding='utf-8'))\n",
    "\n",
    "dnevi = dict() #cluster -> (id, st dni)\n",
    "get_dan = dict() #id ->  st dni\n",
    "for row in zivali:\n",
    "    try:\n",
    "        id = int(row[\"id\"])\n",
    "        st_dni = int(row[\"cas_v_zavetiscu\"])\n",
    "        gruca = get_cluster.get(id)\n",
    "        if gruca not in dnevi and gruca is not None:\n",
    "            dnevi[gruca] = []\n",
    "        id_dnevi = (id,  st_dni)\n",
    "        dnevi[gruca].append(id_dnevi)\n",
    "        get_dan[id] = st_dni\n",
    "    except:\n",
    "        pass"
   ]
  },
  {
   "cell_type": "code",
   "execution_count": 3,
   "id": "fa9f89e0-3488-4986-b5aa-35d3beee3bc1",
   "metadata": {},
   "outputs": [],
   "source": [
    "avg_dnevi = dict()  #cluster -> povprecno st dni\n",
    "for k, v in dnevi.items():\n",
    "    sum  = 0\n",
    "    i = 0\n",
    "    for value in v:\n",
    "        if (value[1] >= 0):\n",
    "            sum += value[1]\n",
    "            i += 1\n",
    "    avg_dnevi[k] = round(sum/i,2)"
   ]
  },
  {
   "cell_type": "markdown",
   "id": "a342333b-ed40-404c-b017-5a65ededb93a",
   "metadata": {},
   "source": [
    "# Povprečno število dni v zavetišču živali v gruči\n",
    "Dobili smo 15 gruč živali in za njih izračunali povprečno število dni, ki so jih v zavetišču preživele, preden so našle svoj večni dom.\n",
    "\n",
    "### C1: 92,68 dni\n",
    "![C1](slike/C1.jpg)\n",
    "\n",
    "### C2: 86,54 dni\n",
    "![C2](slike/C2.jpg)\n",
    "\n",
    "### C3: 72.43 dni\n",
    "![C3](slike/C3.jpg)\n",
    "\n",
    "### C4: 72,29 dni\n",
    "![C4](slike/C4.jpg)\n",
    "\n",
    "### C5: 126,68 dni\n",
    "![C5](slike/C5.jpg)\n",
    "\n",
    "### C6: 93,15 dni\n",
    "![C6](slike/C6.jpg)\n",
    "\n",
    "### C7: 141,31 dni\n",
    "![C7](slike/C7.jpg)\n",
    "\n",
    "### C8: 79,64 dni\n",
    "![C8](slike/C8.jpg)\n",
    "\n",
    "### C9: 80,96 dni\n",
    "![C9](slike/C9.jpg)\n",
    "\n",
    "### C10: 67,37 dni - NAJMANJ\n",
    "![C10](slike/C10.jpg)\n",
    "\n",
    "### C11: 92,17 dni\n",
    "![C11](slike/C11.jpg)\n",
    "\n",
    "### C12: 188,57 dni\n",
    "![C12](slike/C12.jpg)\n",
    "\n",
    "### C13: 239,92 dni - NAJVEČ\n",
    "![C13](slike/C13.jpg)\n",
    "\n",
    "### C14: 110,67 dni\n",
    "![C14](slike/C14.jpg)\n",
    "\n",
    "### C15: 165,52 dni\n",
    "![C15](slike/C15.jpg)"
   ]
  },
  {
   "cell_type": "code",
   "execution_count": 4,
   "id": "b8fdb79f-d6ff-4ba0-b534-df2ea22650b3",
   "metadata": {},
   "outputs": [
    {
     "name": "stdout",
     "output_type": "stream",
     "text": [
      "{'C1': 92.68, 'C5': 126.68, 'C7': 141.31, 'C8': 79.64, 'C4': 72.29, 'C10': 67.37, 'C2': 86.54, 'C6': 93.15, 'C13': 239.92, 'C15': 165.52, 'C12': 188.57, 'C14': 110.67, 'C11': 92.17, 'C9': 80.96, 'C3': 72.43}\n"
     ]
    }
   ],
   "source": [
    "print(avg_dnevi)"
   ]
  }
 ],
 "metadata": {
  "kernelspec": {
   "display_name": "Python 3 (ipykernel)",
   "language": "python",
   "name": "python3"
  },
  "language_info": {
   "codemirror_mode": {
    "name": "ipython",
    "version": 3
   },
   "file_extension": ".py",
   "mimetype": "text/x-python",
   "name": "python",
   "nbconvert_exporter": "python",
   "pygments_lexer": "ipython3",
   "version": "3.11.3"
  }
 },
 "nbformat": 4,
 "nbformat_minor": 5
}
