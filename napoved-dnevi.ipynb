{
 "cells": [
  {
   "cell_type": "markdown",
   "id": "3aea4fbc-0c2d-40f1-adec-4a14f6a2b309",
   "metadata": {},
   "source": [
    "# Napoved število dni živali preživetih v zavetišču\n",
    "S pomočjo linearne regresije in random forest smo napovedali število dni, ki jih bodo živali preživele v zavetišču glede na raznorazne atribute."
   ]
  },
  {
   "cell_type": "markdown",
   "id": "15816568-3cbe-4f38-b3b8-c7a2e071d5f4",
   "metadata": {},
   "source": [
    "### Matrika"
   ]
  },
  {
   "cell_type": "code",
   "execution_count": 1,
   "id": "bbafdbe3-85a6-4fee-b484-7d58ef510410",
   "metadata": {},
   "outputs": [
    {
     "name": "stdout",
     "output_type": "stream",
     "text": [
      "Primer vrstice v matriki:\n",
      "st dni, tip, spol, kastriran, cepljen, cipiran, gruca\n",
      "[155.   0.   0.   1.   1.   1.  12.]\n"
     ]
    }
   ],
   "source": [
    "import numpy as np\n",
    "from csv import DictReader\n",
    "\n",
    "#matrika\n",
    "#vrstica -> žival -> id\n",
    "#stolpec -> št dni (0+), tip (mačka = 0, pes = 1), spol(moški = 0, ženski = 1), kastriran (0 = ni, 1 = je)\n",
    "            #cepljen (0 = ni, 1 = je), cipiran (0 = ni, 1 = je), cluster(0-15),\n",
    "matrika = np.zeros((626,7), dtype=np.float32)\n",
    "\n",
    "zivali = DictReader(open('zivali.csv', 'rt', encoding='utf-8'))\n",
    "\n",
    "for row in zivali:\n",
    "    try:\n",
    "        id = int(row[\"id\"])\n",
    "        st_dni = int(row[\"cas_v_zavetiscu\"])\n",
    "        tip = row[\"tip\"]\n",
    "        spol = row[\"spol\"]\n",
    "        if st_dni < 0:\n",
    "            st_dni = 0 #napačne povozim\n",
    "        if tip == \"pes\":\n",
    "            zival = 1\n",
    "        elif tip == \"muc\": \n",
    "            zival = 0\n",
    "        if spol == \"Moški\":\n",
    "            s = 0\n",
    "        elif spol == \"Ženski\":\n",
    "            s = 1\n",
    "        matrika[id, 0] = st_dni\n",
    "        matrika[id, 1] = zival\n",
    "        matrika[id, 2] = s\n",
    "    except:\n",
    "        pass\n",
    "\n",
    "oskrba = DictReader(open('veterinarska_oskrba.csv', 'rt', encoding='utf-8'))\n",
    "for row in oskrba:\n",
    "     try:\n",
    "        id = int(row[\"id\"])\n",
    "        kastriran = int(row[\"sterilizirana_kastrirana\"])\n",
    "        cepljen = int(row[\"cepljena\"])\n",
    "        cipiran = int(row[\"cipirana\"])\n",
    "        matrika[id, 3] = kastriran\n",
    "        matrika[id, 4] = cepljen\n",
    "        matrika[id, 5] = cipiran\n",
    "     except:\n",
    "         pass\n",
    "\n",
    "gruce = DictReader(open('embedded-slike.csv', 'rt', encoding='utf-8'))\n",
    "next(gruce)\n",
    "next(gruce)\n",
    "for row in gruce:\n",
    "    try:\n",
    "        id = int(row[\"image name\"])\n",
    "        gruca = int(row[\"Cluster\"][1:])\n",
    "        matrika[id, 6] = gruca\n",
    "    except:\n",
    "        pass\n",
    "\n",
    "print(\"Primer vrstice v matriki:\")\n",
    "print(\"st dni, tip, spol, kastriran, cepljen, cipiran, gruca\")\n",
    "print(matrika[307, :])"
   ]
  },
  {
   "cell_type": "markdown",
   "id": "4d3f63f9-35ec-42be-a5a5-e30e97ffb752",
   "metadata": {},
   "source": [
    "### Linarna regresija"
   ]
  },
  {
   "cell_type": "code",
   "execution_count": 2,
   "id": "8053978a-e1b9-47fc-a992-2b23707ff0e4",
   "metadata": {},
   "outputs": [
    {
     "name": "stdout",
     "output_type": "stream",
     "text": [
      "Mean Absolute Error z linearno regresijo: 68.66 dni napake.\n"
     ]
    }
   ],
   "source": [
    "from sklearn.model_selection import train_test_split\n",
    "from sklearn.linear_model import LinearRegression\n",
    "from sklearn.metrics import mean_absolute_error\n",
    "\n",
    "X = matrika[:, 1:]  # atributi\n",
    "y = matrika[:, 0]   # cilj napovedovanja\n",
    "X_train, X_test, y_train, y_test = train_test_split(X, y, test_size=0.15, random_state=42)\n",
    "model = LinearRegression()\n",
    "model.fit(X_train, y_train)\n",
    "y_pred = model.predict(X_test)\n",
    "\n",
    "mae = round(mean_absolute_error(y_test, y_pred),2)\n",
    "\n",
    "print(\"Mean Absolute Error z linearno regresijo:\", mae, \"dni napake.\")"
   ]
  },
  {
   "cell_type": "code",
   "execution_count": 3,
   "id": "fe49798e-ac65-427b-85ed-c54c0b08c0d5",
   "metadata": {},
   "outputs": [
    {
     "name": "stdout",
     "output_type": "stream",
     "text": [
      "InkyLinx (maček):\n",
      "Napovedana vrednost: 196.55 dni\n",
      "Prava vrednost: 211 dni\n"
     ]
    }
   ],
   "source": [
    "nov_primer = np.array([0, 1, 1, 1, 1, 13]) \n",
    "X_novi = nov_primer.reshape(1, -1)  \n",
    "napoved = model.predict(X_novi)\n",
    "\n",
    "print(\"InkyLinx (maček):\")\n",
    "print(\"Napovedana vrednost:\", round(napoved[0],2), \"dni\")\n",
    "print(\"Prava vrednost: 211 dni\") #primer: https://www.zavetisce-horjul.net/zivali1/muc/InkyLinx.php"
   ]
  },
  {
   "cell_type": "markdown",
   "id": "bd9d06db-0d83-4b5f-b7c5-d7858cc78661",
   "metadata": {},
   "source": [
    "### Ansambli, random forest"
   ]
  },
  {
   "cell_type": "code",
   "execution_count": 4,
   "id": "d886e87c-027c-46d7-b0d9-c50c8050654d",
   "metadata": {},
   "outputs": [
    {
     "name": "stdout",
     "output_type": "stream",
     "text": [
      "Mean Absolute Error z random forest in ansambli: 60.76 dni napake.\n"
     ]
    }
   ],
   "source": [
    "from sklearn.ensemble import RandomForestRegressor\n",
    "from sklearn.metrics import mean_absolute_error\n",
    "from sklearn.model_selection import train_test_split\n",
    "\n",
    "X_train, X_test, y_train, y_test = train_test_split(X, y, test_size=0.15, random_state=42)\n",
    "\n",
    "model = RandomForestRegressor(n_estimators=150, random_state=42)  \n",
    "model.fit(X_train, y_train)\n",
    "\n",
    "y_pred = model.predict(X_test)\n",
    "\n",
    "mae = round(mean_absolute_error(y_test, y_pred),2)\n",
    "\n",
    "print(\"Mean Absolute Error z random forest in ansambli:\", mae, \"dni napake.\")"
   ]
  },
  {
   "cell_type": "code",
   "execution_count": 5,
   "id": "fc67453d-368c-42f6-9749-3cad3d5f7d00",
   "metadata": {},
   "outputs": [
    {
     "name": "stdout",
     "output_type": "stream",
     "text": [
      "InkyLinx (maček):\n",
      "Napovedana vrednost: 333.01 dni\n",
      "Prava vrednost: 211 dni\n"
     ]
    }
   ],
   "source": [
    "nov_primer = np.array([0, 1, 1, 1, 1, 13]) \n",
    "X_novi = nov_primer.reshape(1, -1)  \n",
    "napoved = model.predict(X_novi)\n",
    "\n",
    "print(\"InkyLinx (maček):\")\n",
    "print(\"Napovedana vrednost:\", round(napoved[0],2), \"dni\")\n",
    "print(\"Prava vrednost: 211 dni\") #primer: https://www.zavetisce-horjul.net/zivali1/muc/InkyLinx.php"
   ]
  }
 ],
 "metadata": {
  "kernelspec": {
   "display_name": "Python 3 (ipykernel)",
   "language": "python",
   "name": "python3"
  },
  "language_info": {
   "codemirror_mode": {
    "name": "ipython",
    "version": 3
   },
   "file_extension": ".py",
   "mimetype": "text/x-python",
   "name": "python",
   "nbconvert_exporter": "python",
   "pygments_lexer": "ipython3",
   "version": "3.11.3"
  }
 },
 "nbformat": 4,
 "nbformat_minor": 5
}
